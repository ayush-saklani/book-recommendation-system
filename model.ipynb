{
 "cells": [
  {
   "cell_type": "code",
   "execution_count": 1,
   "metadata": {
    "_cell_guid": "b1076dfc-b9ad-4769-8c92-a6c4dae69d19",
    "_uuid": "8f2839f25d086af736a60e9eeb907d3b93b6e0e5",
    "tags": []
   },
   "outputs": [],
   "source": [
    "import pandas as pd                                                                                                                     # data processing\n",
    "from sklearn.feature_extraction.text import CountVectorizer\n",
    "import nltk\n",
    "from nltk.stem.porter import PorterStemmer\n",
    "from sklearn.metrics.pairwise import cosine_similarity \n",
    "import pickle"
   ]
  },
  {
   "cell_type": "code",
   "execution_count": 2,
   "metadata": {
    "tags": []
   },
   "outputs": [],
   "source": [
    "books = pd.read_csv('GoodReads_35k_books.csv',low_memory=False) "
   ]
  },
  {
   "cell_type": "code",
   "execution_count": 3,
   "metadata": {},
   "outputs": [
    {
     "name": "stdout",
     "output_type": "stream",
     "text": [
      "<class 'pandas.core.frame.DataFrame'>\n",
      "RangeIndex: 13270 entries, 0 to 13269\n",
      "Data columns (total 12 columns):\n",
      " #   Column        Non-Null Count  Dtype  \n",
      "---  ------        --------------  -----  \n",
      " 0   Unnamed: 0    13270 non-null  int64  \n",
      " 1   author        13270 non-null  object \n",
      " 2   desc          13270 non-null  object \n",
      " 3   genre         13270 non-null  object \n",
      " 4   img           13270 non-null  object \n",
      " 5   isbn          13270 non-null  object \n",
      " 6   link          13270 non-null  object \n",
      " 7   pages         13270 non-null  int64  \n",
      " 8   rating        13270 non-null  float64\n",
      " 9   reviews       13270 non-null  int64  \n",
      " 10  title         13270 non-null  object \n",
      " 11  totalratings  13270 non-null  int64  \n",
      "dtypes: float64(1), int64(4), object(7)\n",
      "memory usage: 1.2+ MB\n"
     ]
    }
   ],
   "source": [
    "books.info()"
   ]
  },
  {
   "cell_type": "code",
   "execution_count": 4,
   "metadata": {
    "notebookRunGroups": {
     "groupValue": ""
    },
    "tags": []
   },
   "outputs": [
    {
     "data": {
      "text/plain": [
       "(13270, 12)"
      ]
     },
     "execution_count": 4,
     "metadata": {},
     "output_type": "execute_result"
    }
   ],
   "source": [
    "books.shape "
   ]
  },
  {
   "cell_type": "code",
   "execution_count": 5,
   "metadata": {
    "tags": []
   },
   "outputs": [
    {
     "data": {
      "text/html": [
       "<div>\n",
       "<style scoped>\n",
       "    .dataframe tbody tr th:only-of-type {\n",
       "        vertical-align: middle;\n",
       "    }\n",
       "\n",
       "    .dataframe tbody tr th {\n",
       "        vertical-align: top;\n",
       "    }\n",
       "\n",
       "    .dataframe thead th {\n",
       "        text-align: right;\n",
       "    }\n",
       "</style>\n",
       "<table border=\"1\" class=\"dataframe\">\n",
       "  <thead>\n",
       "    <tr style=\"text-align: right;\">\n",
       "      <th></th>\n",
       "      <th>Unnamed: 0</th>\n",
       "      <th>author</th>\n",
       "      <th>desc</th>\n",
       "      <th>genre</th>\n",
       "      <th>img</th>\n",
       "      <th>isbn</th>\n",
       "      <th>link</th>\n",
       "      <th>pages</th>\n",
       "      <th>rating</th>\n",
       "      <th>reviews</th>\n",
       "      <th>title</th>\n",
       "      <th>totalratings</th>\n",
       "    </tr>\n",
       "  </thead>\n",
       "  <tbody>\n",
       "  </tbody>\n",
       "</table>\n",
       "</div>"
      ],
      "text/plain": [
       "Empty DataFrame\n",
       "Columns: [Unnamed: 0, author, desc, genre, img, isbn, link, pages, rating, reviews, title, totalratings]\n",
       "Index: []"
      ]
     },
     "execution_count": 5,
     "metadata": {},
     "output_type": "execute_result"
    }
   ],
   "source": [
    "books.head(0)"
   ]
  },
  {
   "cell_type": "code",
   "execution_count": 6,
   "metadata": {
    "notebookRunGroups": {
     "groupValue": ""
    },
    "tags": []
   },
   "outputs": [
    {
     "data": {
      "text/html": [
       "<div>\n",
       "<style scoped>\n",
       "    .dataframe tbody tr th:only-of-type {\n",
       "        vertical-align: middle;\n",
       "    }\n",
       "\n",
       "    .dataframe tbody tr th {\n",
       "        vertical-align: top;\n",
       "    }\n",
       "\n",
       "    .dataframe thead th {\n",
       "        text-align: right;\n",
       "    }\n",
       "</style>\n",
       "<table border=\"1\" class=\"dataframe\">\n",
       "  <thead>\n",
       "    <tr style=\"text-align: right;\">\n",
       "      <th></th>\n",
       "      <th>author</th>\n",
       "      <th>desc</th>\n",
       "      <th>genre</th>\n",
       "      <th>img</th>\n",
       "      <th>isbn</th>\n",
       "      <th>link</th>\n",
       "      <th>pages</th>\n",
       "      <th>rating</th>\n",
       "      <th>reviews</th>\n",
       "      <th>title</th>\n",
       "      <th>totalratings</th>\n",
       "    </tr>\n",
       "  </thead>\n",
       "  <tbody>\n",
       "  </tbody>\n",
       "</table>\n",
       "</div>"
      ],
      "text/plain": [
       "Empty DataFrame\n",
       "Columns: [author, desc, genre, img, isbn, link, pages, rating, reviews, title, totalratings]\n",
       "Index: []"
      ]
     },
     "execution_count": 6,
     "metadata": {},
     "output_type": "execute_result"
    }
   ],
   "source": [
    "books = books[['author','desc','genre','img','isbn','link','pages','rating','reviews','title','totalratings']]\n",
    "books.head(0)"
   ]
  },
  {
   "cell_type": "code",
   "execution_count": 7,
   "metadata": {},
   "outputs": [
    {
     "data": {
      "text/plain": [
       "0"
      ]
     },
     "execution_count": 7,
     "metadata": {},
     "output_type": "execute_result"
    }
   ],
   "source": [
    "books.duplicated().sum() #checking if any field is duplicated and how many are duplicated"
   ]
  },
  {
   "cell_type": "code",
   "execution_count": 8,
   "metadata": {},
   "outputs": [
    {
     "data": {
      "text/plain": [
       "author          0\n",
       "desc            0\n",
       "genre           0\n",
       "img             0\n",
       "isbn            0\n",
       "link            0\n",
       "pages           0\n",
       "rating          0\n",
       "reviews         0\n",
       "title           0\n",
       "totalratings    0\n",
       "dtype: int64"
      ]
     },
     "execution_count": 8,
     "metadata": {},
     "output_type": "execute_result"
    }
   ],
   "source": [
    "books.isnull().sum()    #checking if any field is empty and how many are empty "
   ]
  },
  {
   "cell_type": "code",
   "execution_count": 9,
   "metadata": {
    "tags": []
   },
   "outputs": [],
   "source": [
    "books.dropna(inplace=True)          #drops the not available field\n",
    "books.drop_duplicates(inplace=True) #drops the duplicated field \n",
    "#inplace means make change in the original data frame"
   ]
  },
  {
   "cell_type": "code",
   "execution_count": 10,
   "metadata": {},
   "outputs": [
    {
     "data": {
      "text/plain": [
       "author                                             Gladys M. Hunt\n",
       "desc            Family favorite now revised and updated, inclu...\n",
       "genre           Parenting,Education,Nonfiction,Writing,Books A...\n",
       "img             https://i.gr-assets.com/images/S/compressed.ph...\n",
       "isbn                                                    310242460\n",
       "link            https://goodreads.com/book/show/126830.Honey_f...\n",
       "pages                                                         251\n",
       "rating                                                       4.44\n",
       "reviews                                                       341\n",
       "title           Honey for a Child's Heart: The Imaginative Use...\n",
       "totalratings                                                 3814\n",
       "Name: 0, dtype: object"
      ]
     },
     "execution_count": 10,
     "metadata": {},
     "output_type": "execute_result"
    }
   ],
   "source": [
    "books.to_csv('filtered_book.csv') #save the preprocessed database\n",
    "books.iloc[0]"
   ]
  },
  {
   "cell_type": "code",
   "execution_count": 11,
   "metadata": {
    "tags": []
   },
   "outputs": [
    {
     "data": {
      "text/html": [
       "<div>\n",
       "<style scoped>\n",
       "    .dataframe tbody tr th:only-of-type {\n",
       "        vertical-align: middle;\n",
       "    }\n",
       "\n",
       "    .dataframe tbody tr th {\n",
       "        vertical-align: top;\n",
       "    }\n",
       "\n",
       "    .dataframe thead th {\n",
       "        text-align: right;\n",
       "    }\n",
       "</style>\n",
       "<table border=\"1\" class=\"dataframe\">\n",
       "  <thead>\n",
       "    <tr style=\"text-align: right;\">\n",
       "      <th></th>\n",
       "      <th>author</th>\n",
       "      <th>desc</th>\n",
       "      <th>genre</th>\n",
       "      <th>img</th>\n",
       "      <th>isbn</th>\n",
       "      <th>link</th>\n",
       "      <th>pages</th>\n",
       "      <th>rating</th>\n",
       "      <th>reviews</th>\n",
       "      <th>title</th>\n",
       "      <th>totalratings</th>\n",
       "    </tr>\n",
       "  </thead>\n",
       "  <tbody>\n",
       "    <tr>\n",
       "      <th>0</th>\n",
       "      <td>Gladys M. Hunt</td>\n",
       "      <td>Family favorite now revised and updated, inclu...</td>\n",
       "      <td>Parenting,Education,Nonfiction,Writing,Books A...</td>\n",
       "      <td>https://i.gr-assets.com/images/S/compressed.ph...</td>\n",
       "      <td>310242460</td>\n",
       "      <td>https://goodreads.com/book/show/126830.Honey_f...</td>\n",
       "      <td>251</td>\n",
       "      <td>4.44</td>\n",
       "      <td>341</td>\n",
       "      <td>Honey for a Child's Heart: The Imaginative Use...</td>\n",
       "      <td>3814</td>\n",
       "    </tr>\n",
       "  </tbody>\n",
       "</table>\n",
       "</div>"
      ],
      "text/plain": [
       "           author                                               desc  \\\n",
       "0  Gladys M. Hunt  Family favorite now revised and updated, inclu...   \n",
       "\n",
       "                                               genre  \\\n",
       "0  Parenting,Education,Nonfiction,Writing,Books A...   \n",
       "\n",
       "                                                 img       isbn  \\\n",
       "0  https://i.gr-assets.com/images/S/compressed.ph...  310242460   \n",
       "\n",
       "                                                link  pages  rating  reviews  \\\n",
       "0  https://goodreads.com/book/show/126830.Honey_f...    251    4.44      341   \n",
       "\n",
       "                                               title  totalratings  \n",
       "0  Honey for a Child's Heart: The Imaginative Use...          3814  "
      ]
     },
     "execution_count": 11,
     "metadata": {},
     "output_type": "execute_result"
    }
   ],
   "source": [
    "books.head(1)"
   ]
  },
  {
   "cell_type": "code",
   "execution_count": 12,
   "metadata": {},
   "outputs": [],
   "source": [
    "# books['desc'][0]"
   ]
  },
  {
   "cell_type": "code",
   "execution_count": 13,
   "metadata": {},
   "outputs": [
    {
     "data": {
      "text/html": [
       "<div>\n",
       "<style scoped>\n",
       "    .dataframe tbody tr th:only-of-type {\n",
       "        vertical-align: middle;\n",
       "    }\n",
       "\n",
       "    .dataframe tbody tr th {\n",
       "        vertical-align: top;\n",
       "    }\n",
       "\n",
       "    .dataframe thead th {\n",
       "        text-align: right;\n",
       "    }\n",
       "</style>\n",
       "<table border=\"1\" class=\"dataframe\">\n",
       "  <thead>\n",
       "    <tr style=\"text-align: right;\">\n",
       "      <th></th>\n",
       "      <th>author</th>\n",
       "      <th>desc</th>\n",
       "      <th>genre</th>\n",
       "      <th>img</th>\n",
       "      <th>isbn</th>\n",
       "      <th>link</th>\n",
       "      <th>pages</th>\n",
       "      <th>rating</th>\n",
       "      <th>reviews</th>\n",
       "      <th>title</th>\n",
       "      <th>totalratings</th>\n",
       "    </tr>\n",
       "  </thead>\n",
       "  <tbody>\n",
       "    <tr>\n",
       "      <th>0</th>\n",
       "      <td>[Gladys M. Hunt]</td>\n",
       "      <td>[Family, favorite, now, revised, and, updated,...</td>\n",
       "      <td>[Parenting, Education, Nonfiction, Writing, Bo...</td>\n",
       "      <td>https://i.gr-assets.com/images/S/compressed.ph...</td>\n",
       "      <td>310242460</td>\n",
       "      <td>https://goodreads.com/book/show/126830.Honey_f...</td>\n",
       "      <td>251</td>\n",
       "      <td>4.44</td>\n",
       "      <td>341</td>\n",
       "      <td>Honey for a Child's Heart: The Imaginative Use...</td>\n",
       "      <td>3814</td>\n",
       "    </tr>\n",
       "  </tbody>\n",
       "</table>\n",
       "</div>"
      ],
      "text/plain": [
       "             author                                               desc  \\\n",
       "0  [Gladys M. Hunt]  [Family, favorite, now, revised, and, updated,...   \n",
       "\n",
       "                                               genre  \\\n",
       "0  [Parenting, Education, Nonfiction, Writing, Bo...   \n",
       "\n",
       "                                                 img       isbn  \\\n",
       "0  https://i.gr-assets.com/images/S/compressed.ph...  310242460   \n",
       "\n",
       "                                                link  pages  rating  reviews  \\\n",
       "0  https://goodreads.com/book/show/126830.Honey_f...    251    4.44      341   \n",
       "\n",
       "                                               title  totalratings  \n",
       "0  Honey for a Child's Heart: The Imaginative Use...          3814  "
      ]
     },
     "execution_count": 13,
     "metadata": {},
     "output_type": "execute_result"
    }
   ],
   "source": [
    "books['genre']=books['genre'].apply(lambda x:x.split(','))\n",
    "books['author']=books['author'].apply(lambda x:x.split(','))\n",
    "books['desc']=books['desc'].apply(lambda x:x.split(' '))\n",
    "books.head(1)"
   ]
  },
  {
   "cell_type": "code",
   "execution_count": 14,
   "metadata": {},
   "outputs": [
    {
     "data": {
      "text/html": [
       "<div>\n",
       "<style scoped>\n",
       "    .dataframe tbody tr th:only-of-type {\n",
       "        vertical-align: middle;\n",
       "    }\n",
       "\n",
       "    .dataframe tbody tr th {\n",
       "        vertical-align: top;\n",
       "    }\n",
       "\n",
       "    .dataframe thead th {\n",
       "        text-align: right;\n",
       "    }\n",
       "</style>\n",
       "<table border=\"1\" class=\"dataframe\">\n",
       "  <thead>\n",
       "    <tr style=\"text-align: right;\">\n",
       "      <th></th>\n",
       "      <th>author</th>\n",
       "      <th>desc</th>\n",
       "      <th>genre</th>\n",
       "      <th>img</th>\n",
       "      <th>isbn</th>\n",
       "      <th>link</th>\n",
       "      <th>pages</th>\n",
       "      <th>rating</th>\n",
       "      <th>reviews</th>\n",
       "      <th>title</th>\n",
       "      <th>totalratings</th>\n",
       "    </tr>\n",
       "  </thead>\n",
       "  <tbody>\n",
       "    <tr>\n",
       "      <th>0</th>\n",
       "      <td>[GladysM.Hunt]</td>\n",
       "      <td>[Family, favorite, now, revised, and, updated,...</td>\n",
       "      <td>[Parenting, Education, Nonfiction, Writing, Bo...</td>\n",
       "      <td>https://i.gr-assets.com/images/S/compressed.ph...</td>\n",
       "      <td>310242460</td>\n",
       "      <td>https://goodreads.com/book/show/126830.Honey_f...</td>\n",
       "      <td>251</td>\n",
       "      <td>4.44</td>\n",
       "      <td>341</td>\n",
       "      <td>Honey for a Child's Heart: The Imaginative Use...</td>\n",
       "      <td>3814</td>\n",
       "    </tr>\n",
       "  </tbody>\n",
       "</table>\n",
       "</div>"
      ],
      "text/plain": [
       "           author                                               desc  \\\n",
       "0  [GladysM.Hunt]  [Family, favorite, now, revised, and, updated,...   \n",
       "\n",
       "                                               genre  \\\n",
       "0  [Parenting, Education, Nonfiction, Writing, Bo...   \n",
       "\n",
       "                                                 img       isbn  \\\n",
       "0  https://i.gr-assets.com/images/S/compressed.ph...  310242460   \n",
       "\n",
       "                                                link  pages  rating  reviews  \\\n",
       "0  https://goodreads.com/book/show/126830.Honey_f...    251    4.44      341   \n",
       "\n",
       "                                               title  totalratings  \n",
       "0  Honey for a Child's Heart: The Imaginative Use...          3814  "
      ]
     },
     "execution_count": 14,
     "metadata": {},
     "output_type": "execute_result"
    }
   ],
   "source": [
    "books['genre']=books['genre'].apply(lambda x:[i.replace(\" \",\"\")for i in x])\n",
    "books['author']=books['author'].apply(lambda x:[i.replace(\" \",\"\")for i in x])\n",
    "books['desc']=books['desc'].apply(lambda x:[i.replace(\" \",\"\")for i in x])\n",
    "#will remove all the spaces in between the words to remove the tag ambigiuty (sam alterman sam ross me sam comman hai to problem ayegi)\n",
    "books.head(1)"
   ]
  },
  {
   "cell_type": "code",
   "execution_count": 15,
   "metadata": {},
   "outputs": [
    {
     "data": {
      "text/plain": [
       "array([list(['GladysM.Hunt', 'Parenting', 'Education', 'Nonfiction', 'Writing', 'BooksAboutBooks', 'Reference', 'Christian', 'Childrens', 'Family', 'Literature', 'Teaching', 'Family', 'favorite', 'now', 'revised', 'and', 'updated,', 'including', 'an', 'annotated', 'list', 'of', 'books', 'for', 'ages', '0-12,Everything', 'parents', 'need', 'to', 'know', 'to', 'find', 'the', 'best', 'books', 'for', 'their', 'children,Since', 'its', 'publication', 'in', '1969,', 'this', 'has', 'been', 'an', 'essential', 'guide', 'for', 'parents', 'wanting', 'to', 'find', 'the', 'best', 'books', 'for', 'their', 'children.', 'Now', 'in', 'its', 'fourth', 'edition,', ',Honey', 'for', 'a', 'Childâ€™s', 'Heart,', 'discusses', 'everything', 'from', 'the', 'ways', 'reading', 'affects', 'both', 'childrenâ€™s', 'view', 'of', 'the', 'world', 'and', 'their', 'imagination', 'to', 'how', 'to', 'choose', 'good', 'books.', 'Illustrated', 'with', 'drawings', 'from', 'dozens', 'of', 'favorites,', 'it', 'includes', 'an', 'indexed', 'and', 'updated', 'list', 'of', 'the', 'best', 'new', 'books', 'on', 'the', 'market', 'and', 'the', 'classics', 'that', 'you', 'want', 'your', 'children', 'to', 'enjoy.', 'Author', 'Gladys', 'Huntâ€™s', 'tastes', 'are', 'broad,', 'her', 'advice', 'is', 'rooted', 'in', 'experience,', 'and', 'her', 'suggestions', 'will', 'enrich', 'the', 'cultural', 'and', 'spiritual', 'life', 'of', 'any', 'home.'])],\n",
       "      dtype=object)"
      ]
     },
     "execution_count": 15,
     "metadata": {},
     "output_type": "execute_result"
    }
   ],
   "source": [
    "books['tags'] = books['author'] + books['genre'] + books['desc'] \n",
    "books.head(1)['tags'].values"
   ]
  },
  {
   "cell_type": "code",
   "execution_count": 16,
   "metadata": {
    "tags": []
   },
   "outputs": [
    {
     "data": {
      "text/html": [
       "<div>\n",
       "<style scoped>\n",
       "    .dataframe tbody tr th:only-of-type {\n",
       "        vertical-align: middle;\n",
       "    }\n",
       "\n",
       "    .dataframe tbody tr th {\n",
       "        vertical-align: top;\n",
       "    }\n",
       "\n",
       "    .dataframe thead th {\n",
       "        text-align: right;\n",
       "    }\n",
       "</style>\n",
       "<table border=\"1\" class=\"dataframe\">\n",
       "  <thead>\n",
       "    <tr style=\"text-align: right;\">\n",
       "      <th></th>\n",
       "      <th>author</th>\n",
       "      <th>desc</th>\n",
       "      <th>genre</th>\n",
       "      <th>img</th>\n",
       "      <th>isbn</th>\n",
       "      <th>link</th>\n",
       "      <th>pages</th>\n",
       "      <th>rating</th>\n",
       "      <th>reviews</th>\n",
       "      <th>title</th>\n",
       "      <th>totalratings</th>\n",
       "      <th>tags</th>\n",
       "    </tr>\n",
       "  </thead>\n",
       "  <tbody>\n",
       "    <tr>\n",
       "      <th>0</th>\n",
       "      <td>[GladysM.Hunt]</td>\n",
       "      <td>[Family, favorite, now, revised, and, updated,...</td>\n",
       "      <td>[Parenting, Education, Nonfiction, Writing, Bo...</td>\n",
       "      <td>https://i.gr-assets.com/images/S/compressed.ph...</td>\n",
       "      <td>310242460</td>\n",
       "      <td>https://goodreads.com/book/show/126830.Honey_f...</td>\n",
       "      <td>251</td>\n",
       "      <td>4.44</td>\n",
       "      <td>341</td>\n",
       "      <td>Honey for a Child's Heart: The Imaginative Use...</td>\n",
       "      <td>3814</td>\n",
       "      <td>[GladysM.Hunt, Parenting, Education, Nonfictio...</td>\n",
       "    </tr>\n",
       "  </tbody>\n",
       "</table>\n",
       "</div>"
      ],
      "text/plain": [
       "           author                                               desc  \\\n",
       "0  [GladysM.Hunt]  [Family, favorite, now, revised, and, updated,...   \n",
       "\n",
       "                                               genre  \\\n",
       "0  [Parenting, Education, Nonfiction, Writing, Bo...   \n",
       "\n",
       "                                                 img       isbn  \\\n",
       "0  https://i.gr-assets.com/images/S/compressed.ph...  310242460   \n",
       "\n",
       "                                                link  pages  rating  reviews  \\\n",
       "0  https://goodreads.com/book/show/126830.Honey_f...    251    4.44      341   \n",
       "\n",
       "                                               title  totalratings  \\\n",
       "0  Honey for a Child's Heart: The Imaginative Use...          3814   \n",
       "\n",
       "                                                tags  \n",
       "0  [GladysM.Hunt, Parenting, Education, Nonfictio...  "
      ]
     },
     "execution_count": 16,
     "metadata": {},
     "output_type": "execute_result"
    }
   ],
   "source": [
    "new_df = books[['author','desc','genre','img','isbn','link','pages','rating','reviews','title','totalratings','tags']]\n",
    "# new_df = books[['title','author','isbn','tags']]\n",
    "new_df.head(1)"
   ]
  },
  {
   "cell_type": "code",
   "execution_count": 17,
   "metadata": {},
   "outputs": [
    {
     "data": {
      "text/html": [
       "<div>\n",
       "<style scoped>\n",
       "    .dataframe tbody tr th:only-of-type {\n",
       "        vertical-align: middle;\n",
       "    }\n",
       "\n",
       "    .dataframe tbody tr th {\n",
       "        vertical-align: top;\n",
       "    }\n",
       "\n",
       "    .dataframe thead th {\n",
       "        text-align: right;\n",
       "    }\n",
       "</style>\n",
       "<table border=\"1\" class=\"dataframe\">\n",
       "  <thead>\n",
       "    <tr style=\"text-align: right;\">\n",
       "      <th></th>\n",
       "      <th>author</th>\n",
       "      <th>desc</th>\n",
       "      <th>genre</th>\n",
       "      <th>img</th>\n",
       "      <th>isbn</th>\n",
       "      <th>link</th>\n",
       "      <th>pages</th>\n",
       "      <th>rating</th>\n",
       "      <th>reviews</th>\n",
       "      <th>title</th>\n",
       "      <th>totalratings</th>\n",
       "      <th>tags</th>\n",
       "    </tr>\n",
       "  </thead>\n",
       "  <tbody>\n",
       "    <tr>\n",
       "      <th>0</th>\n",
       "      <td>[GladysM.Hunt]</td>\n",
       "      <td>[Family, favorite, now, revised, and, updated,...</td>\n",
       "      <td>[Parenting, Education, Nonfiction, Writing, Bo...</td>\n",
       "      <td>https://i.gr-assets.com/images/S/compressed.ph...</td>\n",
       "      <td>310242460</td>\n",
       "      <td>https://goodreads.com/book/show/126830.Honey_f...</td>\n",
       "      <td>251</td>\n",
       "      <td>4.44</td>\n",
       "      <td>341</td>\n",
       "      <td>Honey for a Child's Heart: The Imaginative Use...</td>\n",
       "      <td>3814</td>\n",
       "      <td>gladysm.hunt parenting education nonfiction wr...</td>\n",
       "    </tr>\n",
       "  </tbody>\n",
       "</table>\n",
       "</div>"
      ],
      "text/plain": [
       "           author                                               desc  \\\n",
       "0  [GladysM.Hunt]  [Family, favorite, now, revised, and, updated,...   \n",
       "\n",
       "                                               genre  \\\n",
       "0  [Parenting, Education, Nonfiction, Writing, Bo...   \n",
       "\n",
       "                                                 img       isbn  \\\n",
       "0  https://i.gr-assets.com/images/S/compressed.ph...  310242460   \n",
       "\n",
       "                                                link  pages  rating  reviews  \\\n",
       "0  https://goodreads.com/book/show/126830.Honey_f...    251    4.44      341   \n",
       "\n",
       "                                               title  totalratings  \\\n",
       "0  Honey for a Child's Heart: The Imaginative Use...          3814   \n",
       "\n",
       "                                                tags  \n",
       "0  gladysm.hunt parenting education nonfiction wr...  "
      ]
     },
     "execution_count": 17,
     "metadata": {},
     "output_type": "execute_result"
    }
   ],
   "source": [
    "# new_df['tags']=new_df['tags'].apply(lambda x:\" \".join(x)) #use this once warna multispace aa jayenge \n",
    "# new_df['tags']=new_df['tags'].apply(lambda x:x.lower()) #use this once warna multispace aa jayenge \n",
    "#error aari thi to net se naya syntax nikala hai V ye wali \n",
    "\n",
    "new_df.loc[:, 'tags'] = new_df['tags'].apply(lambda x: \" \".join(x))\n",
    "new_df.loc[:, 'tags'] = new_df['tags'].apply(lambda x: x.lower())\n",
    "new_df.head(1)"
   ]
  },
  {
   "cell_type": "code",
   "execution_count": 18,
   "metadata": {},
   "outputs": [
    {
     "data": {
      "text/plain": [
       "'gladysm.hunt parenting education nonfiction writing booksaboutbooks reference christian childrens family literature teaching family favorite now revised and updated, including an annotated list of books for ages 0-12,everything parents need to know to find the best books for their children,since its publication in 1969, this has been an essential guide for parents wanting to find the best books for their children. now in its fourth edition, ,honey for a childâ€™s heart, discusses everything from the ways reading affects both childrenâ€™s view of the world and their imagination to how to choose good books. illustrated with drawings from dozens of favorites, it includes an indexed and updated list of the best new books on the market and the classics that you want your children to enjoy. author gladys huntâ€™s tastes are broad, her advice is rooted in experience, and her suggestions will enrich the cultural and spiritual life of any home.'"
      ]
     },
     "execution_count": 18,
     "metadata": {},
     "output_type": "execute_result"
    }
   ],
   "source": [
    "new_df.iloc[0].tags"
   ]
  },
  {
   "cell_type": "code",
   "execution_count": 19,
   "metadata": {},
   "outputs": [],
   "source": [
    "def stem(text):\n",
    "    y = []\n",
    "    for i in text.split():\n",
    "        y.append(PorterStemmer().stem(i))\n",
    "    \n",
    "    return \" \".join(y)"
   ]
  },
  {
   "cell_type": "code",
   "execution_count": 20,
   "metadata": {},
   "outputs": [],
   "source": [
    "# new_df['tags'].apply(stem)\n",
    "new_df.loc[:, 'tags'] = new_df['tags'].apply(stem)"
   ]
  },
  {
   "cell_type": "code",
   "execution_count": 21,
   "metadata": {},
   "outputs": [
    {
     "data": {
      "text/plain": [
       "'gladysm.hunt parent educ nonfict write booksaboutbook refer christian children famili literatur teach famili favorit now revis and updated, includ an annot list of book for age 0-12,everyth parent need to know to find the best book for their children,sinc it public in 1969, thi ha been an essenti guid for parent want to find the best book for their children. now in it fourth edition, ,honey for a childâ€™ heart, discuss everyth from the way read affect both childrenâ€™ view of the world and their imagin to how to choos good books. illustr with draw from dozen of favorites, it includ an index and updat list of the best new book on the market and the classic that you want your children to enjoy. author gladi huntâ€™ tast are broad, her advic is root in experience, and her suggest will enrich the cultur and spiritu life of ani home.'"
      ]
     },
     "execution_count": 21,
     "metadata": {},
     "output_type": "execute_result"
    }
   ],
   "source": [
    "new_df.iloc[0].tags"
   ]
  },
  {
   "cell_type": "code",
   "execution_count": 22,
   "metadata": {
    "tags": []
   },
   "outputs": [],
   "source": [
    "cv = CountVectorizer(max_features=5000,stop_words='english')"
   ]
  },
  {
   "cell_type": "code",
   "execution_count": 23,
   "metadata": {
    "tags": []
   },
   "outputs": [
    {
     "data": {
      "text/plain": [
       "(13270, 5000)"
      ]
     },
     "execution_count": 23,
     "metadata": {},
     "output_type": "execute_result"
    }
   ],
   "source": [
    "vector = cv.fit_transform(new_df['tags']).toarray()\n",
    "vector[1].sum()\n",
    "vector.shape"
   ]
  },
  {
   "cell_type": "code",
   "execution_count": 24,
   "metadata": {
    "tags": []
   },
   "outputs": [
    {
     "data": {
      "text/plain": [
       "(13270, 13270)"
      ]
     },
     "execution_count": 24,
     "metadata": {},
     "output_type": "execute_result"
    }
   ],
   "source": [
    "similarity = cosine_similarity(vector)\n",
    "similarity.shape"
   ]
  },
  {
   "cell_type": "code",
   "execution_count": 25,
   "metadata": {
    "tags": []
   },
   "outputs": [],
   "source": [
    "# similarity"
   ]
  },
  {
   "cell_type": "code",
   "execution_count": 26,
   "metadata": {
    "tags": []
   },
   "outputs": [],
   "source": [
    "# new_df[new_df['title'] == 'Seductive Fantasy'].index[0]"
   ]
  },
  {
   "cell_type": "code",
   "execution_count": 27,
   "metadata": {
    "tags": []
   },
   "outputs": [],
   "source": [
    "pickle.dump(new_df,open('book_list.pkl','wb'))\n",
    "pickle.dump(similarity,open('similarity_matrix.pkl','wb'))\n",
    "# pickle.dump(books,open('original_book_list.pkl','wb'))"
   ]
  },
  {
   "cell_type": "code",
   "execution_count": 28,
   "metadata": {},
   "outputs": [],
   "source": [
    "# books.iloc[4[0]].img\n",
    "# books.head(1)"
   ]
  },
  {
   "cell_type": "code",
   "execution_count": 29,
   "metadata": {},
   "outputs": [
    {
     "data": {
      "text/plain": [
       "Index([11017], dtype='int64')"
      ]
     },
     "execution_count": 29,
     "metadata": {},
     "output_type": "execute_result"
    }
   ],
   "source": [
    "# books.iloc[6].index[0]\n",
    "books[books['title'] == 'Grandpa Green'].index"
   ]
  }
 ],
 "metadata": {
  "kernelspec": {
   "display_name": "Python 3 (ipykernel)",
   "language": "python",
   "name": "python3"
  },
  "language_info": {
   "codemirror_mode": {
    "name": "ipython",
    "version": 3
   },
   "file_extension": ".py",
   "mimetype": "text/x-python",
   "name": "python",
   "nbconvert_exporter": "python",
   "pygments_lexer": "ipython3",
   "version": "3.11.5"
  }
 },
 "nbformat": 4,
 "nbformat_minor": 4
}
